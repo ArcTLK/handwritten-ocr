{
 "cells": [
  {
   "cell_type": "markdown",
   "metadata": {},
   "source": [
    "Importing keras, numpy, mnist dataset, Conv2D layer and matplotlib for plotting"
   ]
  },
  {
   "cell_type": "markdown",
   "metadata": {},
   "source": [
    "loading data, printing test and training samples \n",
    "also printing first \"9 training samples\""
   ]
  },
  {
   "cell_type": "code",
   "execution_count": 2,
   "metadata": {},
   "outputs": [
    {
     "name": "stdout",
     "output_type": "stream",
     "text": [
      "(60000, 28, 28) (60000,)\n"
     ]
    },
    {
     "data": {
      "image/png": "[encoded data removed]",
      "text/plain": [
       "<Figure size 432x288 with 9 Axes>"
      ]
     },
     "metadata": {
      "needs_background": "light"
     },
     "output_type": "display_data"
    }
   ],
   "source": [
    "import numpy as np\n",
    "import keras\n",
    "import matplotlib.pyplot as plt\n",
    "from keras.datasets import mnist\n",
    "from keras.models import Sequential\n",
    "from keras.layers import Dense, Dropout, Flatten\n",
    "from keras.layers import Conv2D, MaxPooling2D\n",
    "from keras import backend as K\n",
    "\n",
    "\n",
    "# the data, split between train and test sets\n",
    "#loading data\n",
    "(x_train, y_train), (x_test, y_test) = mnist.load_data()\n",
    "\n",
    "print(x_train.shape, y_train.shape)\n",
    "\n",
    "#printing data\n",
    "\n",
    "shapes = plt.figure()\n",
    "for i in range(9):\n",
    "    plt.subplot(3,3,i+1)\n",
    "    plt.tight_layout()\n",
    "    plt.imshow(x_train[i], cmap = 'gray')\n",
    "    plt.title(\"digits:  {}\".format(y_train[i]))\n",
    "    \n",
    "\n",
    "\n",
    "\n"
   ]
  },
  {
   "cell_type": "markdown",
   "metadata": {},
   "source": [
    "reshaping training data \n",
    "covrting all into 1 type grayscale color and dividing 255 to get between (0,1)"
   ]
  },
  {
   "cell_type": "code",
   "execution_count": 3,
   "metadata": {},
   "outputs": [
    {
     "name": "stdout",
     "output_type": "stream",
     "text": [
      "x_train shape: (60000, 28, 28, 1)\n",
      "60000 train samples\n",
      "10000 test samples\n"
     ]
    }
   ],
   "source": [
    "x_train = x_train.reshape(x_train.shape[0], 28, 28, 1)\n",
    "x_test = x_test.reshape(x_test.shape[0], 28, 28, 1)\n",
    "input_shape = (28, 28, 1)\n",
    "\n",
    "# convert class vectors to binary class matrices\n",
    "y_train = keras.utils.to_categorical(y_train)\n",
    "y_test = keras.utils.to_categorical(y_test)\n",
    "\n",
    "x_train = x_train.astype('float32')\n",
    "x_test = x_test.astype('float32')\n",
    "x_train = x_train/ 255\n",
    "x_test = x_test/255\n",
    "print('x_train shape:', x_train.shape)\n",
    "print(x_train.shape[0], 'train samples')\n",
    "print(x_test.shape[0], 'test samples')"
   ]
  },
  {
   "cell_type": "markdown",
   "metadata": {},
   "source": [
    "defining batch size , no of classes (0,9)= 10 classes, epochs = 10\n",
    "seqential model \n",
    "two filters 32 and 64\n",
    "size of kernel = 3,3\n",
    "activation fn = relu\n",
    "maxpooling 2,2\n",
    "flattening \n",
    "desse layer of 256 \n",
    "dropout and then atlast \n",
    "softmax function\n",
    "model compilation"
   ]
  },
  {
   "cell_type": "code",
   "execution_count": 4,
   "metadata": {},
   "outputs": [],
   "source": [
    "batch_size = 128\n",
    "num_of_classes = 10\n",
    "epochs = 10\n",
    "\n",
    "model = Sequential()\n",
    "model.add(Conv2D(32, kernel_size=(3, 3),activation='relu',input_shape=input_shape))\n",
    "model.add(Conv2D(64, (3, 3), activation='relu'))\n",
    "model.add(MaxPooling2D(pool_size=(2, 2)))\n",
    "model.add(Dropout(0.25))\n",
    "model.add(Flatten())\n",
    "model.add(Dense(256, activation='relu'))\n",
    "model.add(Dropout(0.5))\n",
    "model.add(Dense(num_of_classes, activation='softmax'))\n",
    "\n",
    "model.compile(loss=keras.losses.categorical_crossentropy,optimizer=keras.optimizers.Adadelta(),metrics=['accuracy'])"
   ]
  },
  {
   "cell_type": "markdown",
   "metadata": {},
   "source": [
    "fitting model data and training\n",
    "saving best trained model "
   ]
  },
  {
   "cell_type": "code",
   "execution_count": 5,
   "metadata": {
    "scrolled": true
   },
   "outputs": [
    {
     "name": "stdout",
     "output_type": "stream",
     "text": [
      "Epoch 1/10\n",
      "469/469 [==============================] - 69s 146ms/step - loss: 2.2890 - accuracy: 0.1456 - val_loss: 2.2383 - val_accuracy: 0.4474\n",
      "Epoch 2/10\n",
      "469/469 [==============================] - 71s 152ms/step - loss: 2.2306 - accuracy: 0.2937 - val_loss: 2.1579 - val_accuracy: 0.6300\n",
      "Epoch 3/10\n",
      "469/469 [==============================] - 68s 145ms/step - loss: 2.1507 - accuracy: 0.4282 - val_loss: 2.0433 - val_accuracy: 0.7138\n",
      "Epoch 4/10\n",
      "469/469 [==============================] - 68s 144ms/step - loss: 2.0354 - accuracy: 0.5212 - val_loss: 1.8750 - val_accuracy: 0.7391\n",
      "Epoch 5/10\n",
      "469/469 [==============================] - 68s 145ms/step - loss: 1.8671 - accuracy: 0.5832 - val_loss: 1.6379 - val_accuracy: 0.7625\n",
      "Epoch 6/10\n",
      "469/469 [==============================] - 68s 145ms/step - loss: 1.6421 - accuracy: 0.6277 - val_loss: 1.3616 - val_accuracy: 0.7873\n",
      "Epoch 7/10\n",
      "469/469 [==============================] - 68s 145ms/step - loss: 1.4062 - accuracy: 0.6616 - val_loss: 1.1078 - val_accuracy: 0.8044\n",
      "Epoch 8/10\n",
      "469/469 [==============================] - 68s 146ms/step - loss: 1.1898 - accuracy: 0.6943 - val_loss: 0.9141 - val_accuracy: 0.8196\n",
      "Epoch 9/10\n",
      "469/469 [==============================] - 70s 149ms/step - loss: 1.0398 - accuracy: 0.7165 - val_loss: 0.7800 - val_accuracy: 0.8344\n",
      "Epoch 10/10\n",
      "469/469 [==============================] - 68s 145ms/step - loss: 0.9291 - accuracy: 0.7328 - val_loss: 0.6865 - val_accuracy: 0.8444\n",
      "The model has successfully trained\n",
      "Saving the model as mnist.h5\n"
     ]
    }
   ],
   "source": [
    "hist = model.fit(x_train, y_train,batch_size=batch_size,epochs=epochs,verbose=1,validation_data=(x_test, y_test))\n",
    "print(\"The model has successfully trained\")\n",
    "\n",
    "model.save('mnist.h5')\n",
    "print(\"Saving the model as mnist.h5\")"
   ]
  },
  {
   "cell_type": "markdown",
   "metadata": {},
   "source": [
    "printing out final accuracy and loss"
   ]
  },
  {
   "cell_type": "code",
   "execution_count": 6,
   "metadata": {},
   "outputs": [
    {
     "name": "stdout",
     "output_type": "stream",
     "text": [
      "loss=  0.6865231990814209\n",
      "accuracy= 0.8443999886512756\n"
     ]
    }
   ],
   "source": [
    "score = model.evaluate(x_test, y_test, verbose = 0)\n",
    "print('loss= ', score[0])\n",
    "print('accuracy=', score[1])"
   ]
  },
  {
   "cell_type": "code",
   "execution_count": null,
   "metadata": {},
   "outputs": [],
   "source": []
  }
 ],
 "metadata": {
  "kernelspec": {
   "display_name": "Python 3",
   "language": "python",
   "name": "python3"
  },
  "language_info": {
   "codemirror_mode": {
    "name": "ipython",
    "version": 3
   },
   "file_extension": ".py",
   "mimetype": "text/x-python",
   "name": "python",
   "nbconvert_exporter": "python",
   "pygments_lexer": "ipython3",
   "version": "3.8.5"
  },
  "metadata": {
   "interpreter": {
    "hash": "71e724ffbf935ce6d75223f6460a26e9dc213fc9d36688fb080b650e50a0c3ee"
   }
  }
 },
 "nbformat": 4,
 "nbformat_minor": 2
}
